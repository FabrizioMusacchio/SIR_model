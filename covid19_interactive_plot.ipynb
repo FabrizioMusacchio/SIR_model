{
 "cells": [
  {
   "cell_type": "code",
   "execution_count": 11,
   "metadata": {},
   "outputs": [],
   "source": [
    "import matplotlib.pyplot as plt\n",
    "import ipywidgets as widgets\n",
    "from IPython.display import display\n",
    "import pandas as pd\n",
    "import mplcursors"
   ]
  },
  {
   "cell_type": "code",
   "execution_count": null,
   "metadata": {},
   "outputs": [],
   "source": [
    "# Load data\n",
    "url = \"https://covid.ourworldindata.org/data/owid-covid-data.csv\"\n",
    "df = pd.read_csv(url)"
   ]
  },
  {
   "cell_type": "code",
   "execution_count": 18,
   "metadata": {},
   "outputs": [
    {
     "data": {
      "application/vnd.jupyter.widget-view+json": {
       "model_id": "599ec98e991f49d3b3770aa1ae99ed86",
       "version_major": 2,
       "version_minor": 0
      },
      "text/plain": [
       "Dropdown(description='Country:', index=251, options=('Afghanistan', 'Africa', 'Albania', 'Algeria', 'American …"
      ]
     },
     "metadata": {},
     "output_type": "display_data"
    },
    {
     "data": {
      "application/vnd.jupyter.widget-view+json": {
       "model_id": "61f8e6f21c0c4f29b686b78ab92d767b",
       "version_major": 2,
       "version_minor": 0
      },
      "text/plain": [
       "SelectMultiple(description='Columns:', index=(0, 1), options=('total_cases', 'new_cases', 'new_cases_smoothed'…"
      ]
     },
     "metadata": {},
     "output_type": "display_data"
    },
    {
     "data": {
      "application/vnd.jupyter.widget-view+json": {
       "model_id": "63ad359ae43a46e7835890fb723fdd2a",
       "version_major": 2,
       "version_minor": 0
      },
      "text/plain": [
       "Output()"
      ]
     },
     "metadata": {},
     "output_type": "display_data"
    }
   ],
   "source": [
    "\n",
    "# Create interactive widgets\n",
    "country_dropdown = widgets.Dropdown(\n",
    "    options=df['location'].unique(),\n",
    "    value='World',\n",
    "    description='Country:'\n",
    ")\n",
    "\n",
    "columns_checkbox = widgets.SelectMultiple(\n",
    "    options=list(df.columns[4:]),\n",
    "    value=['total_cases', 'new_cases'],\n",
    "    description='Columns:'\n",
    ")\n",
    "\n",
    "# Plotting function\n",
    "def plot_data(country, columns):\n",
    "    plt.figure(figsize=(7, 5))\n",
    "    selected_data = df[df['location'] == country]\n",
    "    for column in columns:\n",
    "        plt.plot(selected_data['date'], selected_data[column], label=column.replace('_', ' ').title())\n",
    "    plt.xlabel('Date')\n",
    "    plt.ylabel('Count')\n",
    "    plt.title(f'COVID-19 Data for {country}')\n",
    "    plt.legend()\n",
    "    plt.xticks(rotation=45)\n",
    "    mplcursors.cursor(hover=True)\n",
    "    plt.show()\n",
    "\n",
    "# Create interactive output\n",
    "out = widgets.interactive_output(plot_data, {'country': country_dropdown, 'columns': columns_checkbox})\n",
    "\n",
    "# Display widgets and output\n",
    "display(country_dropdown, columns_checkbox, out)"
   ]
  }
 ],
 "metadata": {
  "kernelspec": {
   "display_name": "sir_model_covid19",
   "language": "python",
   "name": "python3"
  },
  "language_info": {
   "codemirror_mode": {
    "name": "ipython",
    "version": 3
   },
   "file_extension": ".py",
   "mimetype": "text/x-python",
   "name": "python",
   "nbconvert_exporter": "python",
   "pygments_lexer": "ipython3",
   "version": "3.9.16"
  },
  "orig_nbformat": 4
 },
 "nbformat": 4,
 "nbformat_minor": 2
}
